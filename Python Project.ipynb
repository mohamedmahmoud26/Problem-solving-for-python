{
 "cells": [
  {
   "cell_type": "code",
   "execution_count": 10,
   "id": "f4671e73-f107-4903-b428-00c4d2fbeb2a",
   "metadata": {},
   "outputs": [
    {
     "name": "stdout",
     "output_type": "stream",
     "text": [
      "[2, 4, 6, 8, 10]\n"
     ]
    }
   ],
   "source": [
    "#Write a Python function that takes a list of numbers and returns a new list containing only the even numbers from the original list.\n",
    "def even_fun(number):\n",
    "    # Return a list comprehension with even numbers\n",
    "  return [num for num in number\n",
    "          if num%2==0]\n",
    "    \n",
    "# Define the input list\n",
    "number=[1,2,3,4,5,6,7,8,9,10]\n",
    "\n",
    "# Call the function and store the result\n",
    "even_function =even_fun(number)\n",
    "\n",
    "# Print the output\n",
    "print(even_function) #output [2, 4, 6, 8, 10]\n"
   ]
  },
  {
   "cell_type": "markdown",
   "id": "70ff8c7f-d5dd-4b78-a0ae-db589ef50b25",
   "metadata": {},
   "source": []
  },
  {
   "cell_type": "code",
   "execution_count": 26,
   "id": "f1894441-0b71-4d13-b0ab-2ecdcfc7b4cb",
   "metadata": {},
   "outputs": [
    {
     "name": "stdout",
     "output_type": "stream",
     "text": [
      "My name is Mohamed, I am 21 years old and I live in Mahallah Elkobra.\n"
     ]
    }
   ],
   "source": [
    "#Create a function that takes a tuple of three values (name, age, city) and returns a formatted string.\n",
    "def person_info(name, age, city):\n",
    "    # Return a formatted string with proper spacing\n",
    "    return f\"My name is {name}, I am {age} years old and I live in {city}.\"\n",
    "\n",
    "# Define the tuple with personal information\n",
    "person = (\"Mohamed\", 21, \"Mahallah Elkobra\")\n",
    "\n",
    "# Call the function and unpack the tuple\n",
    "person_informations = person_info(*person)\n",
    "\n",
    "# Print the result\n",
    "print(person_informations)\n"
   ]
  },
  {
   "cell_type": "code",
   "execution_count": 30,
   "id": "52f1d406-b208-4b3c-9dcf-800d41cb05f4",
   "metadata": {},
   "outputs": [
    {
     "name": "stdout",
     "output_type": "stream",
     "text": [
      "45\n"
     ]
    }
   ],
   "source": [
    "#Write a function that takes a list of lists (matrix) and returns the sum of all the elements.\n",
    "def sum_matrix(matrix):\n",
    "    # Use a nested comprehension to sum all rows and their elements\n",
    "    return sum(sum(row) for row in matrix)\n",
    "\n",
    "# Define the matrix\n",
    "matrix = [[1, 2, 3], [4, 5, 6], [7, 8, 9]]\n",
    "\n",
    "# Call the function and store the result\n",
    "result = sum_matrix(matrix)\n",
    "\n",
    "# Print the result\n",
    "print(result)  # Output: 45\n"
   ]
  },
  {
   "cell_type": "code",
   "execution_count": 32,
   "id": "45e32d24-b623-4cb5-9c14-5f4101190ba1",
   "metadata": {},
   "outputs": [
    {
     "name": "stdout",
     "output_type": "stream",
     "text": [
      "[1, 25, 81]\n"
     ]
    }
   ],
   "source": [
    "#Write a Python function that takes a list of integers and returns a new list containing the squares of only the positive integers.\n",
    "def pos_number(numbers):\n",
    "    # Use a list comprehension to square only positive integers\n",
    "    return [num**2 for num in numbers if num > 0]\n",
    "\n",
    "# Define the input list\n",
    "numbers = [-2, 1, 5, 9, -1]\n",
    "\n",
    "# Call the function and store the result\n",
    "result = pos_number(numbers)\n",
    "\n",
    "# Print the result\n",
    "print(result)  # Output: [1, 25, 81]\n"
   ]
  },
  {
   "cell_type": "code",
   "execution_count": 34,
   "id": "d122defd-a1e3-4a60-b420-a81efe887b5d",
   "metadata": {},
   "outputs": [
    {
     "name": "stdout",
     "output_type": "stream",
     "text": [
      "[2, 4, 6, 8]\n",
      "[1, 2, 3, 4]\n"
     ]
    }
   ],
   "source": [
    "#Create a function that takes a list and an optional multiplier (default is 1) and returns a new list with each element multiplied by the multiplier.\n",
    "def multiply_list(lst, multiplier=1):\n",
    "    # Multiply each element in the list by the given multiplier\n",
    "    return [x * multiplier for x in lst]\n",
    "\n",
    "# Example usage\n",
    "result = multiply_list([1, 2, 3, 4], 2)  # Using a specified multiplier\n",
    "print(result)  # Output: [2, 4, 6, 8]\n",
    "\n",
    "# Example with default multiplier\n",
    "default_result = multiply_list([1, 2, 3, 4])  # Using the default multiplier of 1\n",
    "print(default_result)  # Output: [1, 2, 3, 4]\n",
    "\n"
   ]
  },
  {
   "cell_type": "code",
   "execution_count": 36,
   "id": "57217b6b-fb60-4286-a696-a37826645fbd",
   "metadata": {},
   "outputs": [
    {
     "name": "stdout",
     "output_type": "stream",
     "text": [
      "9\n"
     ]
    }
   ],
   "source": [
    "#Write a function that counts the number of vowels in a given string and returns the count.\n",
    "def count_vowels(s):\n",
    "    # Define the set of vowels (both uppercase and lowercase)\n",
    "    vowels = \"aeiouAEIOU\"\n",
    "    # Use a generator expression to count vowels in the string\n",
    "    return sum(1 for char in s if char in vowels)\n",
    "\n",
    "# Example \n",
    "result = count_vowels(\"Mohamed Mahmiud Elseragy\")\n",
    "print(result)  # Output: 10\n"
   ]
  },
  {
   "cell_type": "code",
   "execution_count": 40,
   "id": "a58a67cf-41ed-465c-bcb3-662164bcc979",
   "metadata": {},
   "outputs": [
    {
     "name": "stdout",
     "output_type": "stream",
     "text": [
      "[1, 2, 3, 4, 5]\n"
     ]
    }
   ],
   "source": [
    "#Create a function that takes a list and returns a new list containing only the unique elements, preserving the original order.\n",
    "def unique_elements(lst):\n",
    "    # Create an empty list to store unique elements\n",
    "    unique_lst = []\n",
    "    # Iterate through the input list\n",
    "    for item in lst:\n",
    "        # Add the item to unique_lst if it's not already present\n",
    "        if item not in unique_lst:\n",
    "            unique_lst.append(item)\n",
    "    return unique_lst\n",
    "\n",
    "# Example \n",
    "result = unique_elements([1, 2, 2, 3, 4, 1, 5, 3])\n",
    "print(result)  # Output: [1, 2, 3, 4, 5]"
   ]
  },
  {
   "cell_type": "code",
   "execution_count": 42,
   "id": "0fef7f7e-cecc-4dbc-b975-c57109bc7d33",
   "metadata": {},
   "outputs": [
    {
     "name": "stdout",
     "output_type": "stream",
     "text": [
      "15\n"
     ]
    }
   ],
   "source": [
    "#Create a function that finds the second largest number in a list without using built-in functions.\n",
    "def second_largest(numbers):\n",
    "    # Initialize largest and second largest to negative infinity\n",
    "    largest = second = float('-inf')\n",
    "    \n",
    "    # Iterate through the list\n",
    "    for n in numbers:\n",
    "        # If the current number is greater than the largest\n",
    "        if n > largest:\n",
    "            second = largest  # Update second largest\n",
    "            largest = n       # Update largest\n",
    "        # If the current number is between largest and second largest\n",
    "        elif n > second and n < largest:\n",
    "            second = n        # Update second largest\n",
    "    return second\n",
    "\n",
    "# Example\n",
    "print(second_largest([10, 20, 15, 5]))  # Output: 15\n"
   ]
  },
  {
   "cell_type": "code",
   "execution_count": 46,
   "id": "6dfe212d-a1db-444a-af2c-f861a7daf387",
   "metadata": {},
   "outputs": [
    {
     "name": "stdout",
     "output_type": "stream",
     "text": [
      "[1, 2, 3, 4, 5, 6, 7, 8]\n"
     ]
    }
   ],
   "source": [
    "#Write a function that merges two sorted lists into a single sorted list.\n",
    "def merge_sorted_lists(list1, list2):\n",
    "    # Create an empty list to store the merged result\n",
    "    merged = []\n",
    "    i, j = 0, 0  # Pointers for list1 and list2\n",
    "\n",
    "    # Merge until one of the lists is exhausted\n",
    "    while i < len(list1) and j < len(list2):\n",
    "        if list1[i] < list2[j]:\n",
    "            merged.append(list1[i])\n",
    "            i += 1\n",
    "        else:\n",
    "            merged.append(list2[j])\n",
    "            j += 1\n",
    "\n",
    "    # Append the remaining elements of the non-exhausted list\n",
    "    merged.extend(list1[i:])\n",
    "    merged.extend(list2[j:])\n",
    "\n",
    "    return merged\n",
    "\n",
    "# Example\n",
    "print(merge_sorted_lists([1, 3, 5, 7], [2, 4, 6, 8]))  # Output: [1, 2, 3, 4, 5, 6, 7, 8]"
   ]
  },
  {
   "cell_type": "code",
   "execution_count": 48,
   "id": "da83f338-b26f-4813-aa2c-ed4525587c36",
   "metadata": {},
   "outputs": [
    {
     "name": "stdout",
     "output_type": "stream",
     "text": [
      "5\n"
     ]
    }
   ],
   "source": [
    "#Create a function that counts the number of distinct elements in a list.\n",
    "def count_distinct_elements(lst):\n",
    "    # Initialize the count and an empty list to track seen elements\n",
    "    count = 0\n",
    "    seen = []\n",
    "    \n",
    "    # Iterate through the list\n",
    "    for item in lst:\n",
    "        # If the item is not in the seen list, add it and increment the count\n",
    "        if item not in seen:\n",
    "            seen.append(item)\n",
    "            count += 1\n",
    "    return count\n",
    "\n",
    "# Example usage\n",
    "print(count_distinct_elements([1, 2, 2, 3, 4, 4, 5]))  # Output: 5\n"
   ]
  },
  {
   "cell_type": "code",
   "execution_count": null,
   "id": "f445a5a8-7452-4c2b-9c0e-c882de59981f",
   "metadata": {},
   "outputs": [],
   "source": []
  }
 ],
 "metadata": {
  "kernelspec": {
   "display_name": "Python 3 (ipykernel)",
   "language": "python",
   "name": "python3"
  },
  "language_info": {
   "codemirror_mode": {
    "name": "ipython",
    "version": 3
   },
   "file_extension": ".py",
   "mimetype": "text/x-python",
   "name": "python",
   "nbconvert_exporter": "python",
   "pygments_lexer": "ipython3",
   "version": "3.12.7"
  }
 },
 "nbformat": 4,
 "nbformat_minor": 5
}
